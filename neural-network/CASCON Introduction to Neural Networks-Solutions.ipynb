{
 "cells": [
  {
   "cell_type": "markdown",
   "metadata": {},
   "source": [
    "## Introduction to Neural Networks\n",
    "\n",
    "Neural networks are a powerful element of the modern machine learning toolbox. It can seem intimidating for a developer to get started due to the volume and depth of material available on them. This tutorial will go through the basics of how neural networks work and tie it in with a practical example - highlighting how it is possible to jump in with ease.\n",
    "\n",
    "The model for the a single \"neuron\" in the network is based on the biological neural cell; we will see from the picture below how this analogizes to our context.\n",
    "<img src=\"Picture1.png\">\n",
    "\n",
    "Thus, we define the neurons in our network to look as such - with each input coming in and multiplied by a weight factor. Then we take the sum of all these weighted inputs and pass it through an \"activation function\".\n",
    "<img src=\"Picture2.png\">\n",
    "\n",
    "By joining these neurons together and connecting them in \"layers\" (with each output from a previous layer becoming an input for each neuron the next layer), we form the basic neural network (also called a multi-layer perceptron model). \n",
    "<img src=\"Picture3.png\">\n",
    "\n",
    "We will later discuss how to figure out the correct weights so that the neural network does what we want it to do.\n",
    "\n",
    "\n"
   ]
  },
  {
   "cell_type": "code",
   "execution_count": 1,
   "metadata": {
    "collapsed": true
   },
   "outputs": [],
   "source": [
    "import network\n",
    "import mnist_loader\n",
    "import numpy as np\n",
    "import matplotlib.pyplot as plt\n",
    "import matplotlib.image as mpimg\n",
    "from PIL import Image\n",
    "import PIL.ImageOps"
   ]
  },
  {
   "cell_type": "markdown",
   "metadata": {},
   "source": [
    "We load the training and test data - in this case, the widely used MNIST handwritten digit data set. Feel free to take a look at mnist_loader.py in the folder to get an idea of how we're manipulating the MNIST data into the right type of shape and array to use in our neural network implementation."
   ]
  },
  {
   "cell_type": "code",
   "execution_count": 2,
   "metadata": {
    "collapsed": true
   },
   "outputs": [],
   "source": [
    "training_data, validation_data, test_data = mnist_loader.load_data_wrapper()"
   ]
  },
  {
   "cell_type": "markdown",
   "metadata": {},
   "source": [
    "Here we load up several examples of images from the training set and display them so we can see what kinds of images we are training the neural network on. "
   ]
  },
  {
   "cell_type": "code",
   "execution_count": 3,
   "metadata": {},
   "outputs": [
    {
     "data": {
      "image/png": "[encoded data removed]",
      "text/plain": [
       "<matplotlib.figure.Figure at 0x105299f90>"
      ]
     },
     "metadata": {},
     "output_type": "display_data"
    }
   ],
   "source": [
    "example_img_1 = np.array(training_data[100][0]).flatten().reshape((28,28))\n",
    "example_img_2 = np.array(training_data[500][0]).flatten().reshape((28,28))\n",
    "example_img_3 = np.array(training_data[1000][0]).flatten().reshape((28,28))\n",
    "plt.subplot(131)\n",
    "plt.imshow(example_img_1, cmap=\"gray\")\n",
    "plt.axis('off')\n",
    "plt.subplot(132)\n",
    "plt.imshow(example_img_2, cmap=\"gray\")\n",
    "plt.axis('off')\n",
    "plt.subplot(133)\n",
    "plt.imshow(example_img_3, cmap=\"gray\")\n",
    "plt.axis('off')\n",
    "plt.show(block=False)"
   ]
  },
  {
   "cell_type": "markdown",
   "metadata": {},
   "source": [
    "The key concepts in the training algorithm for neural networks for the teaching example that we're working with are __stochastic gradient descent__ and __backpropogation__. In our example we'll create a network that looks like the one below, but with thirty neurons in the hidden layer instead of fifteen.\n",
    "<img src=\"Picture4.png\">\n",
    "\n",
    "We can look at the network.py code to see a bit of what's going on behind the scenes. \n"
   ]
  },
  {
   "cell_type": "code",
   "execution_count": 4,
   "metadata": {},
   "outputs": [
    {
     "data": {
      "text/plain": [
       "<matplotlib.figure.Figure at 0x114f7f810>"
      ]
     },
     "metadata": {},
     "output_type": "display_data"
    },
    {
     "name": "stdout",
     "output_type": "stream",
     "text": [
      "Epoch 0: 9065 / 10000\n"
     ]
    },
    {
     "data": {
      "image/png": "[encoded data removed]",
      "text/plain": [
       "<matplotlib.figure.Figure at 0x1151cdad0>"
      ]
     },
     "metadata": {},
     "output_type": "display_data"
    },
    {
     "name": "stdout",
     "output_type": "stream",
     "text": [
      "Epoch 1: 9219 / 10000\n"
     ]
    },
    {
     "data": {
      "image/png": "[encoded data removed]",
      "text/plain": [
       "<matplotlib.figure.Figure at 0x114f7f090>"
      ]
     },
     "metadata": {},
     "output_type": "display_data"
    },
    {
     "name": "stdout",
     "output_type": "stream",
     "text": [
      "Epoch 2: 9263 / 10000\n"
     ]
    },
    {
     "data": {
      "image/png": "[encoded data removed]",
      "text/plain": [
       "<matplotlib.figure.Figure at 0x127188dd0>"
      ]
     },
     "metadata": {},
     "output_type": "display_data"
    },
    {
     "name": "stdout",
     "output_type": "stream",
     "text": [
      "Epoch 3: 9354 / 10000\n"
     ]
    },
    {
     "data": {
      "image/png": "[encoded data removed]",
      "text/plain": [
       "<matplotlib.figure.Figure at 0x126fcad10>"
      ]
     },
     "metadata": {},
     "output_type": "display_data"
    },
    {
     "name": "stdout",
     "output_type": "stream",
     "text": [
      "Epoch 4: 9410 / 10000\n"
     ]
    },
    {
     "data": {
      "image/png": "[encoded data removed]",
      "text/plain": [
       "<matplotlib.figure.Figure at 0x115211fd0>"
      ]
     },
     "metadata": {},
     "output_type": "display_data"
    },
    {
     "name": "stdout",
     "output_type": "stream",
     "text": [
      "Epoch 5: 9407 / 10000\n"
     ]
    },
    {
     "data": {
      "image/png": "[encoded data removed]",
      "text/plain": [
       "<matplotlib.figure.Figure at 0x115161f50>"
      ]
     },
     "metadata": {},
     "output_type": "display_data"
    },
    {
     "name": "stdout",
     "output_type": "stream",
     "text": [
      "Epoch 6: 9453 / 10000\n"
     ]
    },
    {
     "data": {
      "image/png": "[encoded data removed]",
      "text/plain": [
       "<matplotlib.figure.Figure at 0x1151baed0>"
      ]
     },
     "metadata": {},
     "output_type": "display_data"
    },
    {
     "name": "stdout",
     "output_type": "stream",
     "text": [
      "Epoch 7: 9458 / 10000\n"
     ]
    },
    {
     "data": {
      "image/png": "[encoded data removed]",
      "text/plain": [
       "<matplotlib.figure.Figure at 0x107118690>"
      ]
     },
     "metadata": {},
     "output_type": "display_data"
    },
    {
     "name": "stdout",
     "output_type": "stream",
     "text": [
      "Epoch 8: 9458 / 10000\n"
     ]
    },
    {
     "data": {
      "image/png": "[encoded data removed]",
      "text/plain": [
       "<matplotlib.figure.Figure at 0x12723b350>"
      ]
     },
     "metadata": {},
     "output_type": "display_data"
    },
    {
     "name": "stdout",
     "output_type": "stream",
     "text": [
      "Epoch 9: 9484 / 10000\n"
     ]
    }
   ],
   "source": [
    "net = network.Network([784,30,10])\n",
    "net.SGD(training_data, 10, 10, 3.0, test_data = test_data)"
   ]
  },
  {
   "cell_type": "markdown",
   "metadata": {},
   "source": [
    "Now that the network is trained, we can apply it to other images too! Let's define some functions that help us to take a cellphone image and pass it through our trained neural network. The function $\\texttt{rgb2gray}$ converts a RGB image to grayscale, and the function $\\texttt{cleanimg}$ converts the image into something that we can use in our neural network implementations"
   ]
  },
  {
   "cell_type": "code",
   "execution_count": 5,
   "metadata": {
    "collapsed": true
   },
   "outputs": [],
   "source": [
    "def rgb2gray(rgb):\n",
    "    return np.dot(rgb[...,:3], [0.299, 0.587, 0.114])\n",
    "\n",
    "def cleanimg(filename):\n",
    "    img = Image.open(filename)\n",
    "    img.thumbnail((28, 28), Image.ANTIALIAS)\n",
    "    npimg = np.array(img)\n",
    "    print(img.size)\n",
    "    grayimg = (255 - rgb2gray(npimg))/255\n",
    "    grayimg = grayimg - np.percentile(grayimg,80)\n",
    "    grayimg = grayimg/np.amax(grayimg)\n",
    "    grayimg = np.clip(grayimg,0,1)\n",
    "    return grayimg"
   ]
  },
  {
   "cell_type": "markdown",
   "metadata": {},
   "source": [
    "The image that I'll be using can be found in the folder - there are a few other test images and you can even upload your own! (Make sure that the image is cropped to be square though, otherwise the image may not turn out to be 28x28)"
   ]
  },
  {
   "cell_type": "code",
   "execution_count": 6,
   "metadata": {},
   "outputs": [
    {
     "name": "stdout",
     "output_type": "stream",
     "text": [
      "(28, 28)\n"
     ]
    }
   ],
   "source": [
    "img = cleanimg(\"test6.png\")"
   ]
  },
  {
   "cell_type": "markdown",
   "metadata": {},
   "source": [
    "We simply feed the formatted image into our neural network and see what kind of result we get!"
   ]
  },
  {
   "cell_type": "code",
   "execution_count": 7,
   "metadata": {},
   "outputs": [
    {
     "data": {
      "image/png": "[encoded data removed]",
      "text/plain": [
       "<matplotlib.figure.Figure at 0x127172750>"
      ]
     },
     "metadata": {},
     "output_type": "display_data"
    }
   ],
   "source": [
    "plt.figure(1)\n",
    "plt.title(\"This is likely the number \" + str(np.argmax(net.feedforward(img.reshape((784,1))))))\n",
    "plt.imshow(img, cmap=\"gray\")\n",
    "plt.axis('off')\n",
    "plt.show()"
   ]
  },
  {
   "cell_type": "markdown",
   "metadata": {},
   "source": [
    "We can now examine the exact same data set using an open-source and widely adopted tool, the scikit-learn machine learning package for Python. We'll see that similarly to the teaching network class, training and implementing a neural network using scikit-learn takes only a few lines (and follows the same coding practices as any other machine learning model)"
   ]
  },
  {
   "cell_type": "code",
   "execution_count": 8,
   "metadata": {
    "collapsed": true
   },
   "outputs": [],
   "source": [
    "from sklearn.neural_network import MLPClassifier"
   ]
  },
  {
   "cell_type": "markdown",
   "metadata": {},
   "source": [
    "Here we use the exact same data set as in the other example, but manipulate it again to be the correct type of input for the scikit-learn Multi-Layer Perceptron Classifier"
   ]
  },
  {
   "cell_type": "code",
   "execution_count": 9,
   "metadata": {
    "collapsed": true
   },
   "outputs": [],
   "source": [
    "molded_data = zip(*training_data)\n",
    "training_inputs = [np.squeeze(x) for x in molded_data[0]]\n",
    "training_outputs = [np.squeeze(x) for x in molded_data[1]]\n",
    "molded_data = zip(*test_data)\n",
    "test_inputs = [np.squeeze(x) for x in molded_data[0]]\n",
    "test_outputs = [np.squeeze(x) for x in molded_data[1]]"
   ]
  },
  {
   "cell_type": "markdown",
   "metadata": {},
   "source": [
    "We train the neural network using the same kinds of parameters as in the teaching example, and the same number of neurons, activation function, and optimization solver"
   ]
  },
  {
   "cell_type": "code",
   "execution_count": 10,
   "metadata": {
    "collapsed": true
   },
   "outputs": [],
   "source": [
    "clf = MLPClassifier(hidden_layer_sizes=(30,),activation=\"logistic\",solver=\"sgd\",alpha=0,batch_size=10,learning_rate_init=3.0,momentum=0)\n",
    "clf.fit(training_inputs,training_outputs)\n",
    "MLPoutput = clf.predict(test_inputs)"
   ]
  },
  {
   "cell_type": "markdown",
   "metadata": {},
   "source": [
    "We can analyze our results from running it with MLPClassifier in the same way that we analyzed the previous version of the neural network, and arrive at a similar success rate"
   ]
  },
  {
   "cell_type": "code",
   "execution_count": 11,
   "metadata": {},
   "outputs": [
    {
     "name": "stdout",
     "output_type": "stream",
     "text": [
      "93.12\n"
     ]
    }
   ],
   "source": [
    "predict_outputs = [np.argmax(x) for x in MLPoutput]\n",
    "sum = 0\n",
    "diff = [a - b for a, b in zip(test_outputs, predict_outputs)]\n",
    "for i in diff:\n",
    "    if i == 0:\n",
    "        sum += 1\n",
    "print(100*float(sum)/len(diff))"
   ]
  },
  {
   "cell_type": "markdown",
   "metadata": {},
   "source": [
    "And applying it to the same image..."
   ]
  },
  {
   "cell_type": "code",
   "execution_count": 12,
   "metadata": {},
   "outputs": [
    {
     "data": {
      "image/png": "[encoded data removed]",
      "text/plain": [
       "<matplotlib.figure.Figure at 0x10a4b7610>"
      ]
     },
     "metadata": {},
     "output_type": "display_data"
    }
   ],
   "source": [
    "plt.figure(1)\n",
    "plt.title(\"This is likely the number \" + str(np.argmax(clf.predict(np.squeeze(img.reshape((784,1))).reshape(1,-1)))))\n",
    "plt.imshow(img, cmap=\"gray\")\n",
    "plt.axis('off')\n",
    "plt.show()"
   ]
  },
  {
   "cell_type": "markdown",
   "metadata": {},
   "source": [
    "Now that we have both neural nets trained and available, we can also try them out on some real world data!"
   ]
  },
  {
   "cell_type": "code",
   "execution_count": 14,
   "metadata": {},
   "outputs": [
    {
     "data": {
      "image/png": "[encoded data removed]",
      "text/plain": [
       "<matplotlib.figure.Figure at 0x1153c90d0>"
      ]
     },
     "metadata": {},
     "output_type": "display_data"
    }
   ],
   "source": [
    "plt.figure(3)\n",
    "plt.subplot(121)\n",
    "plt.title(\"This is likely the number \" + str(np.argmax(net.feedforward(img.reshape((784,1))))))\n",
    "plt.imshow(img, cmap=\"gray\")\n",
    "plt.axis('off')\n",
    "\n",
    "plt.subplot(122)\n",
    "plt.title(\"This is likely the number \" + str(np.argmax(clf.predict(np.squeeze(img.reshape((784,1))).reshape(1,-1)))))\n",
    "plt.imshow(img, cmap=\"gray\")\n",
    "plt.axis('off')\n",
    "plt.show()"
   ]
  },
  {
   "cell_type": "markdown",
   "metadata": {},
   "source": [
    "## Conclusion\n",
    "\n",
    "Using both methods, we were able to get meaningful results on real handwritten digit data while learning the fundamentals of neural networks. Hopefully, these examples demosntrated how quickly one can learn and apply some of the basic machine learning tools!"
   ]
  }
 ],
 "metadata": {
  "kernelspec": {
   "display_name": "Python 2",
   "language": "python",
   "name": "python2"
  },
  "language_info": {
   "codemirror_mode": {
    "name": "ipython",
    "version": 2
   },
   "file_extension": ".py",
   "mimetype": "text/x-python",
   "name": "python",
   "nbconvert_exporter": "python",
   "pygments_lexer": "ipython2",
   "version": "2.7.13"
  }
 },
 "nbformat": 4,
 "nbformat_minor": 2
}
